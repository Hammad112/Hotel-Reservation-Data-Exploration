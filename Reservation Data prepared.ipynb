{
 "cells": [
  {
   "cell_type": "markdown",
   "id": "8ddad781",
   "metadata": {},
   "source": [
    "## **Import Libraries**"
   ]
  },
  {
   "cell_type": "code",
   "execution_count": 1,
   "id": "8ca72e55",
   "metadata": {},
   "outputs": [],
   "source": [
    "import pandas as pd"
   ]
  },
  {
   "cell_type": "markdown",
   "id": "322c31e5",
   "metadata": {},
   "source": [
    "## **Load the dataset**"
   ]
  },
  {
   "cell_type": "code",
   "execution_count": 3,
   "id": "1cc7997d",
   "metadata": {},
   "outputs": [],
   "source": [
    "df=pd.read_csv(\"Hotel Reservations Dataset.csv\")"
   ]
  },
  {
   "cell_type": "code",
   "execution_count": 4,
   "id": "5bba50c4-f800-4956-9e04-3176dfb556e2",
   "metadata": {},
   "outputs": [
    {
     "data": {
      "text/html": [
       "<div>\n",
       "<style scoped>\n",
       "    .dataframe tbody tr th:only-of-type {\n",
       "        vertical-align: middle;\n",
       "    }\n",
       "\n",
       "    .dataframe tbody tr th {\n",
       "        vertical-align: top;\n",
       "    }\n",
       "\n",
       "    .dataframe thead th {\n",
       "        text-align: right;\n",
       "    }\n",
       "</style>\n",
       "<table border=\"1\" class=\"dataframe\">\n",
       "  <thead>\n",
       "    <tr style=\"text-align: right;\">\n",
       "      <th></th>\n",
       "      <th>no_of_adults</th>\n",
       "      <th>no_of_children</th>\n",
       "      <th>type_of_meal_plan</th>\n",
       "      <th>required_car_parking_space</th>\n",
       "      <th>room_type_reserved</th>\n",
       "      <th>lead_time</th>\n",
       "      <th>arrival_year</th>\n",
       "      <th>arrival_month</th>\n",
       "      <th>arrival_date</th>\n",
       "      <th>market_segment_type</th>\n",
       "      <th>avg_price_per_room</th>\n",
       "      <th>booking_status</th>\n",
       "    </tr>\n",
       "  </thead>\n",
       "  <tbody>\n",
       "    <tr>\n",
       "      <th>0</th>\n",
       "      <td>2</td>\n",
       "      <td>0</td>\n",
       "      <td>Meal Plan 1</td>\n",
       "      <td>0</td>\n",
       "      <td>Room_Type 1</td>\n",
       "      <td>224</td>\n",
       "      <td>2017</td>\n",
       "      <td>10</td>\n",
       "      <td>2</td>\n",
       "      <td>Offline</td>\n",
       "      <td>65.00</td>\n",
       "      <td>0</td>\n",
       "    </tr>\n",
       "    <tr>\n",
       "      <th>1</th>\n",
       "      <td>2</td>\n",
       "      <td>0</td>\n",
       "      <td>Not Selected</td>\n",
       "      <td>0</td>\n",
       "      <td>Room_Type 1</td>\n",
       "      <td>5</td>\n",
       "      <td>2018</td>\n",
       "      <td>11</td>\n",
       "      <td>6</td>\n",
       "      <td>Online</td>\n",
       "      <td>106.68</td>\n",
       "      <td>0</td>\n",
       "    </tr>\n",
       "    <tr>\n",
       "      <th>2</th>\n",
       "      <td>1</td>\n",
       "      <td>0</td>\n",
       "      <td>Meal Plan 1</td>\n",
       "      <td>0</td>\n",
       "      <td>Room_Type 1</td>\n",
       "      <td>1</td>\n",
       "      <td>2018</td>\n",
       "      <td>2</td>\n",
       "      <td>28</td>\n",
       "      <td>Online</td>\n",
       "      <td>60.00</td>\n",
       "      <td>1</td>\n",
       "    </tr>\n",
       "    <tr>\n",
       "      <th>3</th>\n",
       "      <td>2</td>\n",
       "      <td>0</td>\n",
       "      <td>Meal Plan 1</td>\n",
       "      <td>0</td>\n",
       "      <td>Room_Type 1</td>\n",
       "      <td>211</td>\n",
       "      <td>2018</td>\n",
       "      <td>5</td>\n",
       "      <td>20</td>\n",
       "      <td>Online</td>\n",
       "      <td>100.00</td>\n",
       "      <td>1</td>\n",
       "    </tr>\n",
       "    <tr>\n",
       "      <th>4</th>\n",
       "      <td>2</td>\n",
       "      <td>0</td>\n",
       "      <td>Not Selected</td>\n",
       "      <td>0</td>\n",
       "      <td>Room_Type 1</td>\n",
       "      <td>48</td>\n",
       "      <td>2018</td>\n",
       "      <td>4</td>\n",
       "      <td>11</td>\n",
       "      <td>Online</td>\n",
       "      <td>94.50</td>\n",
       "      <td>1</td>\n",
       "    </tr>\n",
       "  </tbody>\n",
       "</table>\n",
       "</div>"
      ],
      "text/plain": [
       "   no_of_adults  no_of_children type_of_meal_plan  required_car_parking_space  \\\n",
       "0             2               0       Meal Plan 1                           0   \n",
       "1             2               0      Not Selected                           0   \n",
       "2             1               0       Meal Plan 1                           0   \n",
       "3             2               0       Meal Plan 1                           0   \n",
       "4             2               0      Not Selected                           0   \n",
       "\n",
       "  room_type_reserved  lead_time  arrival_year  arrival_month  arrival_date  \\\n",
       "0        Room_Type 1        224          2017             10             2   \n",
       "1        Room_Type 1          5          2018             11             6   \n",
       "2        Room_Type 1          1          2018              2            28   \n",
       "3        Room_Type 1        211          2018              5            20   \n",
       "4        Room_Type 1         48          2018              4            11   \n",
       "\n",
       "  market_segment_type  avg_price_per_room  booking_status  \n",
       "0             Offline               65.00               0  \n",
       "1              Online              106.68               0  \n",
       "2              Online               60.00               1  \n",
       "3              Online              100.00               1  \n",
       "4              Online               94.50               1  "
      ]
     },
     "execution_count": 4,
     "metadata": {},
     "output_type": "execute_result"
    }
   ],
   "source": [
    "df.head()"
   ]
  },
  {
   "cell_type": "markdown",
   "id": "f8b81fc8",
   "metadata": {},
   "source": [
    "## **Explore data** "
   ]
  },
  {
   "cell_type": "code",
   "execution_count": 15,
   "id": "e66ba3f0-cdf6-46ec-97ae-7abe59e59fd3",
   "metadata": {},
   "outputs": [
    {
     "data": {
      "text/plain": [
       "Index(['no_of_adults', 'no_of_children', 'type_of_meal_plan',\n",
       "       'required_car_parking_space', 'room_type_reserved', 'lead_time',\n",
       "       'arrival_year', 'arrival_month', 'arrival_date', 'market_segment_type',\n",
       "       'avg_price_per_room', 'booking_status'],\n",
       "      dtype='object')"
      ]
     },
     "execution_count": 15,
     "metadata": {},
     "output_type": "execute_result"
    }
   ],
   "source": [
    "df.columns"
   ]
  },
  {
   "cell_type": "code",
   "execution_count": 23,
   "id": "e9bc105f-07cf-40df-bd07-49115a647eec",
   "metadata": {
    "scrolled": true
   },
   "outputs": [
    {
     "data": {
      "text/html": [
       "<div>\n",
       "<style scoped>\n",
       "    .dataframe tbody tr th:only-of-type {\n",
       "        vertical-align: middle;\n",
       "    }\n",
       "\n",
       "    .dataframe tbody tr th {\n",
       "        vertical-align: top;\n",
       "    }\n",
       "\n",
       "    .dataframe thead th {\n",
       "        text-align: right;\n",
       "    }\n",
       "</style>\n",
       "<table border=\"1\" class=\"dataframe\">\n",
       "  <thead>\n",
       "    <tr style=\"text-align: right;\">\n",
       "      <th></th>\n",
       "      <th>type_of_meal_plan</th>\n",
       "      <th>room_type_reserved</th>\n",
       "      <th>market_segment_type</th>\n",
       "    </tr>\n",
       "  </thead>\n",
       "  <tbody>\n",
       "    <tr>\n",
       "      <th>0</th>\n",
       "      <td>Meal Plan 1</td>\n",
       "      <td>Room_Type 1</td>\n",
       "      <td>Offline</td>\n",
       "    </tr>\n",
       "    <tr>\n",
       "      <th>1</th>\n",
       "      <td>Not Selected</td>\n",
       "      <td>Room_Type 1</td>\n",
       "      <td>Online</td>\n",
       "    </tr>\n",
       "    <tr>\n",
       "      <th>2</th>\n",
       "      <td>Meal Plan 1</td>\n",
       "      <td>Room_Type 1</td>\n",
       "      <td>Online</td>\n",
       "    </tr>\n",
       "    <tr>\n",
       "      <th>3</th>\n",
       "      <td>Meal Plan 1</td>\n",
       "      <td>Room_Type 1</td>\n",
       "      <td>Online</td>\n",
       "    </tr>\n",
       "    <tr>\n",
       "      <th>4</th>\n",
       "      <td>Not Selected</td>\n",
       "      <td>Room_Type 1</td>\n",
       "      <td>Online</td>\n",
       "    </tr>\n",
       "  </tbody>\n",
       "</table>\n",
       "</div>"
      ],
      "text/plain": [
       "  type_of_meal_plan room_type_reserved market_segment_type\n",
       "0       Meal Plan 1        Room_Type 1             Offline\n",
       "1      Not Selected        Room_Type 1              Online\n",
       "2       Meal Plan 1        Room_Type 1              Online\n",
       "3       Meal Plan 1        Room_Type 1              Online\n",
       "4      Not Selected        Room_Type 1              Online"
      ]
     },
     "execution_count": 23,
     "metadata": {},
     "output_type": "execute_result"
    }
   ],
   "source": [
    "# We have to perform encoding on that inorder to make it numerical\n",
    "df.select_dtypes(include='object').head()"
   ]
  },
  {
   "cell_type": "code",
   "execution_count": 27,
   "id": "555a251a-9643-4a68-8593-d1fc91479cd0",
   "metadata": {},
   "outputs": [
    {
     "data": {
      "text/plain": [
       "no_of_adults                    0\n",
       "no_of_children                  0\n",
       "type_of_meal_plan               0\n",
       "required_car_parking_space      0\n",
       "room_type_reserved              0\n",
       "lead_time                       0\n",
       "arrival_year                    0\n",
       "arrival_month                   0\n",
       "arrival_date                    0\n",
       "market_segment_type             0\n",
       "avg_price_per_room            175\n",
       "booking_status                  0\n",
       "dtype: int64"
      ]
     },
     "execution_count": 27,
     "metadata": {},
     "output_type": "execute_result"
    }
   ],
   "source": [
    "df.isnull().sum()"
   ]
  },
  {
   "cell_type": "markdown",
   "id": "f85321e0",
   "metadata": {},
   "source": [
    "## **Check Shape of the data**"
   ]
  },
  {
   "cell_type": "code",
   "execution_count": 29,
   "id": "b2d5b3bb",
   "metadata": {},
   "outputs": [
    {
     "data": {
      "text/plain": [
       "(25299, 12)"
      ]
     },
     "execution_count": 29,
     "metadata": {},
     "output_type": "execute_result"
    }
   ],
   "source": [
    "df.shape"
   ]
  },
  {
   "cell_type": "markdown",
   "id": "89b82d95",
   "metadata": {},
   "source": [
    "## **Explore the Structure**"
   ]
  },
  {
   "cell_type": "code",
   "execution_count": 30,
   "id": "77ed708c",
   "metadata": {},
   "outputs": [
    {
     "name": "stdout",
     "output_type": "stream",
     "text": [
      "<class 'pandas.core.frame.DataFrame'>\n",
      "RangeIndex: 25299 entries, 0 to 25298\n",
      "Data columns (total 12 columns):\n",
      " #   Column                      Non-Null Count  Dtype  \n",
      "---  ------                      --------------  -----  \n",
      " 0   no_of_adults                25299 non-null  int64  \n",
      " 1   no_of_children              25299 non-null  int64  \n",
      " 2   type_of_meal_plan           25299 non-null  object \n",
      " 3   required_car_parking_space  25299 non-null  int64  \n",
      " 4   room_type_reserved          25299 non-null  object \n",
      " 5   lead_time                   25299 non-null  int64  \n",
      " 6   arrival_year                25299 non-null  int64  \n",
      " 7   arrival_month               25299 non-null  int64  \n",
      " 8   arrival_date                25299 non-null  int64  \n",
      " 9   market_segment_type         25299 non-null  object \n",
      " 10  avg_price_per_room          25124 non-null  float64\n",
      " 11  booking_status              25299 non-null  int64  \n",
      "dtypes: float64(1), int64(8), object(3)\n",
      "memory usage: 2.3+ MB\n"
     ]
    }
   ],
   "source": [
    "df.info()"
   ]
  },
  {
   "cell_type": "code",
   "execution_count": 31,
   "id": "032ebd1b",
   "metadata": {},
   "outputs": [
    {
     "data": {
      "text/html": [
       "<div>\n",
       "<style scoped>\n",
       "    .dataframe tbody tr th:only-of-type {\n",
       "        vertical-align: middle;\n",
       "    }\n",
       "\n",
       "    .dataframe tbody tr th {\n",
       "        vertical-align: top;\n",
       "    }\n",
       "\n",
       "    .dataframe thead th {\n",
       "        text-align: right;\n",
       "    }\n",
       "</style>\n",
       "<table border=\"1\" class=\"dataframe\">\n",
       "  <thead>\n",
       "    <tr style=\"text-align: right;\">\n",
       "      <th></th>\n",
       "      <th>no_of_adults</th>\n",
       "      <th>no_of_children</th>\n",
       "      <th>required_car_parking_space</th>\n",
       "      <th>lead_time</th>\n",
       "      <th>arrival_year</th>\n",
       "      <th>arrival_month</th>\n",
       "      <th>arrival_date</th>\n",
       "      <th>avg_price_per_room</th>\n",
       "      <th>booking_status</th>\n",
       "    </tr>\n",
       "  </thead>\n",
       "  <tbody>\n",
       "    <tr>\n",
       "      <th>count</th>\n",
       "      <td>25299.00000</td>\n",
       "      <td>25299.000000</td>\n",
       "      <td>25299.000000</td>\n",
       "      <td>25299.000000</td>\n",
       "      <td>25299.000000</td>\n",
       "      <td>25299.000000</td>\n",
       "      <td>25299.000000</td>\n",
       "      <td>25124.000000</td>\n",
       "      <td>25299.000000</td>\n",
       "    </tr>\n",
       "    <tr>\n",
       "      <th>mean</th>\n",
       "      <td>1.89715</td>\n",
       "      <td>0.144393</td>\n",
       "      <td>0.042848</td>\n",
       "      <td>67.009012</td>\n",
       "      <td>2017.854026</td>\n",
       "      <td>7.330132</td>\n",
       "      <td>15.765880</td>\n",
       "      <td>106.140796</td>\n",
       "      <td>0.292265</td>\n",
       "    </tr>\n",
       "    <tr>\n",
       "      <th>std</th>\n",
       "      <td>0.52664</td>\n",
       "      <td>0.467098</td>\n",
       "      <td>0.203102</td>\n",
       "      <td>68.777542</td>\n",
       "      <td>0.353087</td>\n",
       "      <td>3.135241</td>\n",
       "      <td>8.862943</td>\n",
       "      <td>37.932499</td>\n",
       "      <td>0.454812</td>\n",
       "    </tr>\n",
       "    <tr>\n",
       "      <th>min</th>\n",
       "      <td>0.00000</td>\n",
       "      <td>0.000000</td>\n",
       "      <td>0.000000</td>\n",
       "      <td>0.000000</td>\n",
       "      <td>2017.000000</td>\n",
       "      <td>1.000000</td>\n",
       "      <td>1.000000</td>\n",
       "      <td>0.000000</td>\n",
       "      <td>0.000000</td>\n",
       "    </tr>\n",
       "    <tr>\n",
       "      <th>25%</th>\n",
       "      <td>2.00000</td>\n",
       "      <td>0.000000</td>\n",
       "      <td>0.000000</td>\n",
       "      <td>12.000000</td>\n",
       "      <td>2018.000000</td>\n",
       "      <td>5.000000</td>\n",
       "      <td>8.000000</td>\n",
       "      <td>80.750000</td>\n",
       "      <td>0.000000</td>\n",
       "    </tr>\n",
       "    <tr>\n",
       "      <th>50%</th>\n",
       "      <td>2.00000</td>\n",
       "      <td>0.000000</td>\n",
       "      <td>0.000000</td>\n",
       "      <td>45.000000</td>\n",
       "      <td>2018.000000</td>\n",
       "      <td>8.000000</td>\n",
       "      <td>16.000000</td>\n",
       "      <td>100.285000</td>\n",
       "      <td>0.000000</td>\n",
       "    </tr>\n",
       "    <tr>\n",
       "      <th>75%</th>\n",
       "      <td>2.00000</td>\n",
       "      <td>0.000000</td>\n",
       "      <td>0.000000</td>\n",
       "      <td>101.000000</td>\n",
       "      <td>2018.000000</td>\n",
       "      <td>10.000000</td>\n",
       "      <td>23.000000</td>\n",
       "      <td>127.800000</td>\n",
       "      <td>1.000000</td>\n",
       "    </tr>\n",
       "    <tr>\n",
       "      <th>max</th>\n",
       "      <td>4.00000</td>\n",
       "      <td>10.000000</td>\n",
       "      <td>2.000000</td>\n",
       "      <td>443.000000</td>\n",
       "      <td>2018.000000</td>\n",
       "      <td>12.000000</td>\n",
       "      <td>31.000000</td>\n",
       "      <td>540.000000</td>\n",
       "      <td>1.000000</td>\n",
       "    </tr>\n",
       "  </tbody>\n",
       "</table>\n",
       "</div>"
      ],
      "text/plain": [
       "       no_of_adults  no_of_children  required_car_parking_space     lead_time  \\\n",
       "count   25299.00000    25299.000000                25299.000000  25299.000000   \n",
       "mean        1.89715        0.144393                    0.042848     67.009012   \n",
       "std         0.52664        0.467098                    0.203102     68.777542   \n",
       "min         0.00000        0.000000                    0.000000      0.000000   \n",
       "25%         2.00000        0.000000                    0.000000     12.000000   \n",
       "50%         2.00000        0.000000                    0.000000     45.000000   \n",
       "75%         2.00000        0.000000                    0.000000    101.000000   \n",
       "max         4.00000       10.000000                    2.000000    443.000000   \n",
       "\n",
       "       arrival_year  arrival_month  arrival_date  avg_price_per_room  \\\n",
       "count  25299.000000   25299.000000  25299.000000        25124.000000   \n",
       "mean    2017.854026       7.330132     15.765880          106.140796   \n",
       "std        0.353087       3.135241      8.862943           37.932499   \n",
       "min     2017.000000       1.000000      1.000000            0.000000   \n",
       "25%     2018.000000       5.000000      8.000000           80.750000   \n",
       "50%     2018.000000       8.000000     16.000000          100.285000   \n",
       "75%     2018.000000      10.000000     23.000000          127.800000   \n",
       "max     2018.000000      12.000000     31.000000          540.000000   \n",
       "\n",
       "       booking_status  \n",
       "count    25299.000000  \n",
       "mean         0.292265  \n",
       "std          0.454812  \n",
       "min          0.000000  \n",
       "25%          0.000000  \n",
       "50%          0.000000  \n",
       "75%          1.000000  \n",
       "max          1.000000  "
      ]
     },
     "execution_count": 31,
     "metadata": {},
     "output_type": "execute_result"
    }
   ],
   "source": [
    "df.describe()"
   ]
  },
  {
   "cell_type": "markdown",
   "id": "bc9ab521",
   "metadata": {},
   "source": [
    "### **Check Duplicates**"
   ]
  },
  {
   "cell_type": "code",
   "execution_count": 33,
   "id": "263ede9f",
   "metadata": {},
   "outputs": [
    {
     "data": {
      "text/html": [
       "<div>\n",
       "<style scoped>\n",
       "    .dataframe tbody tr th:only-of-type {\n",
       "        vertical-align: middle;\n",
       "    }\n",
       "\n",
       "    .dataframe tbody tr th {\n",
       "        vertical-align: top;\n",
       "    }\n",
       "\n",
       "    .dataframe thead th {\n",
       "        text-align: right;\n",
       "    }\n",
       "</style>\n",
       "<table border=\"1\" class=\"dataframe\">\n",
       "  <thead>\n",
       "    <tr style=\"text-align: right;\">\n",
       "      <th></th>\n",
       "      <th>no_of_adults</th>\n",
       "      <th>no_of_children</th>\n",
       "      <th>type_of_meal_plan</th>\n",
       "      <th>required_car_parking_space</th>\n",
       "      <th>room_type_reserved</th>\n",
       "      <th>lead_time</th>\n",
       "      <th>arrival_year</th>\n",
       "      <th>arrival_month</th>\n",
       "      <th>arrival_date</th>\n",
       "      <th>market_segment_type</th>\n",
       "      <th>avg_price_per_room</th>\n",
       "      <th>booking_status</th>\n",
       "    </tr>\n",
       "  </thead>\n",
       "  <tbody>\n",
       "    <tr>\n",
       "      <th>25187</th>\n",
       "      <td>2</td>\n",
       "      <td>0</td>\n",
       "      <td>Meal Plan 1</td>\n",
       "      <td>0</td>\n",
       "      <td>Room_Type 4</td>\n",
       "      <td>83</td>\n",
       "      <td>2018</td>\n",
       "      <td>12</td>\n",
       "      <td>26</td>\n",
       "      <td>Online</td>\n",
       "      <td>105.61</td>\n",
       "      <td>0</td>\n",
       "    </tr>\n",
       "    <tr>\n",
       "      <th>25188</th>\n",
       "      <td>3</td>\n",
       "      <td>0</td>\n",
       "      <td>Meal Plan 1</td>\n",
       "      <td>0</td>\n",
       "      <td>Room_Type 1</td>\n",
       "      <td>121</td>\n",
       "      <td>2018</td>\n",
       "      <td>7</td>\n",
       "      <td>6</td>\n",
       "      <td>Offline</td>\n",
       "      <td>96.90</td>\n",
       "      <td>0</td>\n",
       "    </tr>\n",
       "    <tr>\n",
       "      <th>25189</th>\n",
       "      <td>2</td>\n",
       "      <td>0</td>\n",
       "      <td>Meal Plan 1</td>\n",
       "      <td>0</td>\n",
       "      <td>Room_Type 4</td>\n",
       "      <td>44</td>\n",
       "      <td>2018</td>\n",
       "      <td>10</td>\n",
       "      <td>18</td>\n",
       "      <td>Online</td>\n",
       "      <td>133.44</td>\n",
       "      <td>0</td>\n",
       "    </tr>\n",
       "    <tr>\n",
       "      <th>25190</th>\n",
       "      <td>1</td>\n",
       "      <td>0</td>\n",
       "      <td>Not Selected</td>\n",
       "      <td>0</td>\n",
       "      <td>Room_Type 1</td>\n",
       "      <td>0</td>\n",
       "      <td>2018</td>\n",
       "      <td>9</td>\n",
       "      <td>11</td>\n",
       "      <td>Online</td>\n",
       "      <td>85.03</td>\n",
       "      <td>0</td>\n",
       "    </tr>\n",
       "    <tr>\n",
       "      <th>25191</th>\n",
       "      <td>1</td>\n",
       "      <td>0</td>\n",
       "      <td>Meal Plan 1</td>\n",
       "      <td>0</td>\n",
       "      <td>Room_Type 4</td>\n",
       "      <td>35</td>\n",
       "      <td>2018</td>\n",
       "      <td>4</td>\n",
       "      <td>30</td>\n",
       "      <td>Online</td>\n",
       "      <td>140.40</td>\n",
       "      <td>0</td>\n",
       "    </tr>\n",
       "    <tr>\n",
       "      <th>...</th>\n",
       "      <td>...</td>\n",
       "      <td>...</td>\n",
       "      <td>...</td>\n",
       "      <td>...</td>\n",
       "      <td>...</td>\n",
       "      <td>...</td>\n",
       "      <td>...</td>\n",
       "      <td>...</td>\n",
       "      <td>...</td>\n",
       "      <td>...</td>\n",
       "      <td>...</td>\n",
       "      <td>...</td>\n",
       "    </tr>\n",
       "    <tr>\n",
       "      <th>25294</th>\n",
       "      <td>2</td>\n",
       "      <td>1</td>\n",
       "      <td>Meal Plan 1</td>\n",
       "      <td>0</td>\n",
       "      <td>Room_Type 6</td>\n",
       "      <td>31</td>\n",
       "      <td>2018</td>\n",
       "      <td>9</td>\n",
       "      <td>26</td>\n",
       "      <td>Online</td>\n",
       "      <td>148.69</td>\n",
       "      <td>0</td>\n",
       "    </tr>\n",
       "    <tr>\n",
       "      <th>25295</th>\n",
       "      <td>1</td>\n",
       "      <td>0</td>\n",
       "      <td>Meal Plan 1</td>\n",
       "      <td>0</td>\n",
       "      <td>Room_Type 1</td>\n",
       "      <td>58</td>\n",
       "      <td>2018</td>\n",
       "      <td>2</td>\n",
       "      <td>29</td>\n",
       "      <td>Online</td>\n",
       "      <td>66.45</td>\n",
       "      <td>0</td>\n",
       "    </tr>\n",
       "    <tr>\n",
       "      <th>25296</th>\n",
       "      <td>1</td>\n",
       "      <td>0</td>\n",
       "      <td>Meal Plan 1</td>\n",
       "      <td>0</td>\n",
       "      <td>Room_Type 1</td>\n",
       "      <td>0</td>\n",
       "      <td>2018</td>\n",
       "      <td>5</td>\n",
       "      <td>2</td>\n",
       "      <td>Aviation</td>\n",
       "      <td>95.00</td>\n",
       "      <td>0</td>\n",
       "    </tr>\n",
       "    <tr>\n",
       "      <th>25297</th>\n",
       "      <td>1</td>\n",
       "      <td>0</td>\n",
       "      <td>Meal Plan 1</td>\n",
       "      <td>0</td>\n",
       "      <td>Room_Type 1</td>\n",
       "      <td>3</td>\n",
       "      <td>2018</td>\n",
       "      <td>10</td>\n",
       "      <td>2</td>\n",
       "      <td>Complementary</td>\n",
       "      <td>0.00</td>\n",
       "      <td>0</td>\n",
       "    </tr>\n",
       "    <tr>\n",
       "      <th>25298</th>\n",
       "      <td>2</td>\n",
       "      <td>0</td>\n",
       "      <td>Meal Plan 1</td>\n",
       "      <td>0</td>\n",
       "      <td>Room_Type 1</td>\n",
       "      <td>123</td>\n",
       "      <td>2018</td>\n",
       "      <td>8</td>\n",
       "      <td>13</td>\n",
       "      <td>Online</td>\n",
       "      <td>123.30</td>\n",
       "      <td>1</td>\n",
       "    </tr>\n",
       "  </tbody>\n",
       "</table>\n",
       "<p>112 rows × 12 columns</p>\n",
       "</div>"
      ],
      "text/plain": [
       "       no_of_adults  no_of_children type_of_meal_plan  \\\n",
       "25187             2               0       Meal Plan 1   \n",
       "25188             3               0       Meal Plan 1   \n",
       "25189             2               0       Meal Plan 1   \n",
       "25190             1               0      Not Selected   \n",
       "25191             1               0       Meal Plan 1   \n",
       "...             ...             ...               ...   \n",
       "25294             2               1       Meal Plan 1   \n",
       "25295             1               0       Meal Plan 1   \n",
       "25296             1               0       Meal Plan 1   \n",
       "25297             1               0       Meal Plan 1   \n",
       "25298             2               0       Meal Plan 1   \n",
       "\n",
       "       required_car_parking_space room_type_reserved  lead_time  arrival_year  \\\n",
       "25187                           0        Room_Type 4         83          2018   \n",
       "25188                           0        Room_Type 1        121          2018   \n",
       "25189                           0        Room_Type 4         44          2018   \n",
       "25190                           0        Room_Type 1          0          2018   \n",
       "25191                           0        Room_Type 4         35          2018   \n",
       "...                           ...                ...        ...           ...   \n",
       "25294                           0        Room_Type 6         31          2018   \n",
       "25295                           0        Room_Type 1         58          2018   \n",
       "25296                           0        Room_Type 1          0          2018   \n",
       "25297                           0        Room_Type 1          3          2018   \n",
       "25298                           0        Room_Type 1        123          2018   \n",
       "\n",
       "       arrival_month  arrival_date market_segment_type  avg_price_per_room  \\\n",
       "25187             12            26              Online              105.61   \n",
       "25188              7             6             Offline               96.90   \n",
       "25189             10            18              Online              133.44   \n",
       "25190              9            11              Online               85.03   \n",
       "25191              4            30              Online              140.40   \n",
       "...              ...           ...                 ...                 ...   \n",
       "25294              9            26              Online              148.69   \n",
       "25295              2            29              Online               66.45   \n",
       "25296              5             2            Aviation               95.00   \n",
       "25297             10             2       Complementary                0.00   \n",
       "25298              8            13              Online              123.30   \n",
       "\n",
       "       booking_status  \n",
       "25187               0  \n",
       "25188               0  \n",
       "25189               0  \n",
       "25190               0  \n",
       "25191               0  \n",
       "...               ...  \n",
       "25294               0  \n",
       "25295               0  \n",
       "25296               0  \n",
       "25297               0  \n",
       "25298               1  \n",
       "\n",
       "[112 rows x 12 columns]"
      ]
     },
     "execution_count": 33,
     "metadata": {},
     "output_type": "execute_result"
    }
   ],
   "source": [
    "df[df.duplicated()]"
   ]
  },
  {
   "cell_type": "code",
   "execution_count": 32,
   "id": "2ee3663c",
   "metadata": {},
   "outputs": [
    {
     "data": {
      "text/plain": [
       "112"
      ]
     },
     "execution_count": 32,
     "metadata": {},
     "output_type": "execute_result"
    }
   ],
   "source": [
    "df.duplicated().sum()"
   ]
  },
  {
   "cell_type": "markdown",
   "id": "19d05b66",
   "metadata": {},
   "source": [
    "### **Deal with duplicates**"
   ]
  },
  {
   "cell_type": "code",
   "execution_count": 34,
   "id": "8e786174",
   "metadata": {},
   "outputs": [],
   "source": [
    "df.drop_duplicates(inplace=True)"
   ]
  },
  {
   "cell_type": "code",
   "execution_count": 38,
   "id": "024be650",
   "metadata": {},
   "outputs": [
    {
     "data": {
      "text/plain": [
       "0        False\n",
       "1        False\n",
       "2        False\n",
       "3        False\n",
       "4        False\n",
       "         ...  \n",
       "25182    False\n",
       "25183    False\n",
       "25184    False\n",
       "25185    False\n",
       "25186    False\n",
       "Length: 25187, dtype: bool"
      ]
     },
     "execution_count": 38,
     "metadata": {},
     "output_type": "execute_result"
    }
   ],
   "source": [
    "df.duplicated()"
   ]
  },
  {
   "cell_type": "code",
   "execution_count": 39,
   "id": "41716978",
   "metadata": {},
   "outputs": [
    {
     "data": {
      "text/plain": [
       "0"
      ]
     },
     "execution_count": 39,
     "metadata": {},
     "output_type": "execute_result"
    }
   ],
   "source": [
    "df.duplicated().sum()"
   ]
  },
  {
   "cell_type": "code",
   "execution_count": 43,
   "id": "6a438259-48a7-4773-90dc-6d05979be2ad",
   "metadata": {},
   "outputs": [
    {
     "data": {
      "text/html": [
       "<div>\n",
       "<style scoped>\n",
       "    .dataframe tbody tr th:only-of-type {\n",
       "        vertical-align: middle;\n",
       "    }\n",
       "\n",
       "    .dataframe tbody tr th {\n",
       "        vertical-align: top;\n",
       "    }\n",
       "\n",
       "    .dataframe thead th {\n",
       "        text-align: right;\n",
       "    }\n",
       "</style>\n",
       "<table border=\"1\" class=\"dataframe\">\n",
       "  <thead>\n",
       "    <tr style=\"text-align: right;\">\n",
       "      <th></th>\n",
       "      <th>no_of_adults</th>\n",
       "      <th>no_of_children</th>\n",
       "      <th>type_of_meal_plan</th>\n",
       "      <th>required_car_parking_space</th>\n",
       "      <th>room_type_reserved</th>\n",
       "      <th>lead_time</th>\n",
       "      <th>arrival_year</th>\n",
       "      <th>arrival_month</th>\n",
       "      <th>arrival_date</th>\n",
       "      <th>market_segment_type</th>\n",
       "      <th>avg_price_per_room</th>\n",
       "      <th>booking_status</th>\n",
       "    </tr>\n",
       "  </thead>\n",
       "  <tbody>\n",
       "    <tr>\n",
       "      <th>0</th>\n",
       "      <td>2</td>\n",
       "      <td>0</td>\n",
       "      <td>Meal Plan 1</td>\n",
       "      <td>0</td>\n",
       "      <td>Room_Type 1</td>\n",
       "      <td>224</td>\n",
       "      <td>2017</td>\n",
       "      <td>10</td>\n",
       "      <td>2</td>\n",
       "      <td>Offline</td>\n",
       "      <td>65.00</td>\n",
       "      <td>0</td>\n",
       "    </tr>\n",
       "    <tr>\n",
       "      <th>1</th>\n",
       "      <td>2</td>\n",
       "      <td>0</td>\n",
       "      <td>Not Selected</td>\n",
       "      <td>0</td>\n",
       "      <td>Room_Type 1</td>\n",
       "      <td>5</td>\n",
       "      <td>2018</td>\n",
       "      <td>11</td>\n",
       "      <td>6</td>\n",
       "      <td>Online</td>\n",
       "      <td>106.68</td>\n",
       "      <td>0</td>\n",
       "    </tr>\n",
       "    <tr>\n",
       "      <th>2</th>\n",
       "      <td>1</td>\n",
       "      <td>0</td>\n",
       "      <td>Meal Plan 1</td>\n",
       "      <td>0</td>\n",
       "      <td>Room_Type 1</td>\n",
       "      <td>1</td>\n",
       "      <td>2018</td>\n",
       "      <td>2</td>\n",
       "      <td>28</td>\n",
       "      <td>Online</td>\n",
       "      <td>60.00</td>\n",
       "      <td>1</td>\n",
       "    </tr>\n",
       "    <tr>\n",
       "      <th>3</th>\n",
       "      <td>2</td>\n",
       "      <td>0</td>\n",
       "      <td>Meal Plan 1</td>\n",
       "      <td>0</td>\n",
       "      <td>Room_Type 1</td>\n",
       "      <td>211</td>\n",
       "      <td>2018</td>\n",
       "      <td>5</td>\n",
       "      <td>20</td>\n",
       "      <td>Online</td>\n",
       "      <td>100.00</td>\n",
       "      <td>1</td>\n",
       "    </tr>\n",
       "    <tr>\n",
       "      <th>4</th>\n",
       "      <td>2</td>\n",
       "      <td>0</td>\n",
       "      <td>Not Selected</td>\n",
       "      <td>0</td>\n",
       "      <td>Room_Type 1</td>\n",
       "      <td>48</td>\n",
       "      <td>2018</td>\n",
       "      <td>4</td>\n",
       "      <td>11</td>\n",
       "      <td>Online</td>\n",
       "      <td>94.50</td>\n",
       "      <td>1</td>\n",
       "    </tr>\n",
       "  </tbody>\n",
       "</table>\n",
       "</div>"
      ],
      "text/plain": [
       "   no_of_adults  no_of_children type_of_meal_plan  required_car_parking_space  \\\n",
       "0             2               0       Meal Plan 1                           0   \n",
       "1             2               0      Not Selected                           0   \n",
       "2             1               0       Meal Plan 1                           0   \n",
       "3             2               0       Meal Plan 1                           0   \n",
       "4             2               0      Not Selected                           0   \n",
       "\n",
       "  room_type_reserved  lead_time  arrival_year  arrival_month  arrival_date  \\\n",
       "0        Room_Type 1        224          2017             10             2   \n",
       "1        Room_Type 1          5          2018             11             6   \n",
       "2        Room_Type 1          1          2018              2            28   \n",
       "3        Room_Type 1        211          2018              5            20   \n",
       "4        Room_Type 1         48          2018              4            11   \n",
       "\n",
       "  market_segment_type  avg_price_per_room  booking_status  \n",
       "0             Offline               65.00               0  \n",
       "1              Online              106.68               0  \n",
       "2              Online               60.00               1  \n",
       "3              Online              100.00               1  \n",
       "4              Online               94.50               1  "
      ]
     },
     "execution_count": 43,
     "metadata": {},
     "output_type": "execute_result"
    }
   ],
   "source": [
    "# Resetting the index\n",
    "df=df.reset_index(drop=True)\n",
    "df.head()"
   ]
  },
  {
   "cell_type": "markdown",
   "id": "abc66ec2",
   "metadata": {},
   "source": [
    "### **Check Missing Values**\n",
    "\n",
    "- Use graphical and no graphical approach ( hint: pandas function and missingno library)"
   ]
  },
  {
   "cell_type": "code",
   "execution_count": 44,
   "id": "bf03beab",
   "metadata": {},
   "outputs": [
    {
     "name": "stdout",
     "output_type": "stream",
     "text": [
      "<class 'pandas.core.frame.DataFrame'>\n",
      "RangeIndex: 25187 entries, 0 to 25186\n",
      "Data columns (total 12 columns):\n",
      " #   Column                      Non-Null Count  Dtype  \n",
      "---  ------                      --------------  -----  \n",
      " 0   no_of_adults                25187 non-null  int64  \n",
      " 1   no_of_children              25187 non-null  int64  \n",
      " 2   type_of_meal_plan           25187 non-null  object \n",
      " 3   required_car_parking_space  25187 non-null  int64  \n",
      " 4   room_type_reserved          25187 non-null  object \n",
      " 5   lead_time                   25187 non-null  int64  \n",
      " 6   arrival_year                25187 non-null  int64  \n",
      " 7   arrival_month               25187 non-null  int64  \n",
      " 8   arrival_date                25187 non-null  int64  \n",
      " 9   market_segment_type         25187 non-null  object \n",
      " 10  avg_price_per_room          25015 non-null  float64\n",
      " 11  booking_status              25187 non-null  int64  \n",
      "dtypes: float64(1), int64(8), object(3)\n",
      "memory usage: 2.3+ MB\n"
     ]
    }
   ],
   "source": [
    "# avg price per room have missing values\n",
    "df.info()"
   ]
  },
  {
   "cell_type": "code",
   "execution_count": 45,
   "id": "b68d1e04",
   "metadata": {},
   "outputs": [
    {
     "data": {
      "text/plain": [
       "no_of_adults                    0\n",
       "no_of_children                  0\n",
       "type_of_meal_plan               0\n",
       "required_car_parking_space      0\n",
       "room_type_reserved              0\n",
       "lead_time                       0\n",
       "arrival_year                    0\n",
       "arrival_month                   0\n",
       "arrival_date                    0\n",
       "market_segment_type             0\n",
       "avg_price_per_room            172\n",
       "booking_status                  0\n",
       "dtype: int64"
      ]
     },
     "execution_count": 45,
     "metadata": {},
     "output_type": "execute_result"
    }
   ],
   "source": [
    "df.isnull().sum()"
   ]
  },
  {
   "cell_type": "code",
   "execution_count": 46,
   "id": "d6673574",
   "metadata": {},
   "outputs": [],
   "source": [
    "import missingno as ms"
   ]
  },
  {
   "cell_type": "code",
   "execution_count": 48,
   "id": "f997ee32-50db-4a94-ba22-db9cfa52d28d",
   "metadata": {},
   "outputs": [
    {
     "data": {
      "text/plain": [
       "<Axes: >"
      ]
     },
     "execution_count": 48,
     "metadata": {},
     "output_type": "execute_result"
    },
    {
     "data": {
      "image/png": "[encoded data removed]",
      "text/plain": [
       "<Figure size 2500x1000 with 3 Axes>"
      ]
     },
     "metadata": {},
     "output_type": "display_data"
    }
   ],
   "source": [
    "bar=ms.bar(df)\n",
    "bar"
   ]
  },
  {
   "cell_type": "code",
   "execution_count": 49,
   "id": "b178c31b-0724-437e-b3d7-c36bf5e003d4",
   "metadata": {},
   "outputs": [
    {
     "data": {
      "text/plain": [
       "<Axes: >"
      ]
     },
     "execution_count": 49,
     "metadata": {},
     "output_type": "execute_result"
    },
    {
     "data": {
      "image/png": "[encoded data removed]",
      "text/plain": [
       "<Figure size 2500x1000 with 2 Axes>"
      ]
     },
     "metadata": {},
     "output_type": "display_data"
    }
   ],
   "source": [
    "ms.matrix(df)"
   ]
  },
  {
   "cell_type": "code",
   "execution_count": 51,
   "id": "10a7c4a7-57c2-473c-bfb5-591b5bb33dcc",
   "metadata": {},
   "outputs": [
    {
     "data": {
      "text/plain": [
       "no_of_adults                    0\n",
       "no_of_children                  0\n",
       "type_of_meal_plan               0\n",
       "required_car_parking_space      0\n",
       "room_type_reserved              0\n",
       "lead_time                       0\n",
       "arrival_year                    0\n",
       "arrival_month                   0\n",
       "arrival_date                    0\n",
       "market_segment_type             0\n",
       "avg_price_per_room            172\n",
       "booking_status                  0\n",
       "dtype: int64"
      ]
     },
     "execution_count": 51,
     "metadata": {},
     "output_type": "execute_result"
    }
   ],
   "source": [
    "missing_values=df.isnull().sum()\n",
    "missing_values"
   ]
  },
  {
   "cell_type": "code",
   "execution_count": 53,
   "id": "b0cac3c7",
   "metadata": {},
   "outputs": [],
   "source": [
    "missing_str=missing_values.loc[missing_values>0]"
   ]
  },
  {
   "cell_type": "code",
   "execution_count": 54,
   "id": "eeb6ef16",
   "metadata": {},
   "outputs": [
    {
     "data": {
      "image/png": "[encoded data removed]",
      "text/plain": [
       "<Figure size 640x480 with 1 Axes>"
      ]
     },
     "metadata": {},
     "output_type": "display_data"
    }
   ],
   "source": [
    "import matplotlib.pyplot as plt\n",
    "missing_str.plot(kind='bar')\n",
    "plt.show()"
   ]
  },
  {
   "cell_type": "markdown",
   "id": "4da5cb59",
   "metadata": {},
   "source": [
    "## **Dealing with Missing values**"
   ]
  },
  {
   "cell_type": "code",
   "execution_count": 55,
   "id": "21197d30-e5be-4d93-ab7c-30dcd72b0c55",
   "metadata": {},
   "outputs": [
    {
     "data": {
      "text/plain": [
       "172"
      ]
     },
     "execution_count": 55,
     "metadata": {},
     "output_type": "execute_result"
    }
   ],
   "source": [
    "# as value contains the average so it would be better to replace the missin values with mean\n",
    "df['avg_price_per_room'].isnull().sum()"
   ]
  },
  {
   "cell_type": "code",
   "execution_count": 57,
   "id": "47017e14-7e49-4f9b-9c8a-a6ef89a1a1d4",
   "metadata": {},
   "outputs": [
    {
     "data": {
      "text/plain": [
       "106.16700259844093"
      ]
     },
     "execution_count": 57,
     "metadata": {},
     "output_type": "execute_result"
    }
   ],
   "source": [
    "Mean_DR=df['avg_price_per_room'].mean()\n",
    "Mean_DR"
   ]
  },
  {
   "cell_type": "code",
   "execution_count": 63,
   "id": "7da69bd4-cccc-4cc5-8287-43ecf6c96d03",
   "metadata": {},
   "outputs": [],
   "source": [
    "df['avg_price_per_room'].fillna(Mean_DR,inplace=True)"
   ]
  },
  {
   "cell_type": "code",
   "execution_count": 64,
   "id": "c869f6f3-db70-4fde-b688-aff8fead2d5f",
   "metadata": {},
   "outputs": [
    {
     "data": {
      "text/plain": [
       "no_of_adults                  0\n",
       "no_of_children                0\n",
       "type_of_meal_plan             0\n",
       "required_car_parking_space    0\n",
       "room_type_reserved            0\n",
       "lead_time                     0\n",
       "arrival_year                  0\n",
       "arrival_month                 0\n",
       "arrival_date                  0\n",
       "market_segment_type           0\n",
       "avg_price_per_room            0\n",
       "booking_status                0\n",
       "dtype: int64"
      ]
     },
     "execution_count": 64,
     "metadata": {},
     "output_type": "execute_result"
    }
   ],
   "source": [
    "df.isnull().sum()"
   ]
  },
  {
   "cell_type": "markdown",
   "id": "6546e414",
   "metadata": {},
   "source": [
    "## **Encoding**\n",
    "**Identify columns and then find a suitable technique for it**"
   ]
  },
  {
   "cell_type": "code",
   "execution_count": 66,
   "id": "5f84a78d-b973-45d8-aa97-c8bfd1fac4d5",
   "metadata": {},
   "outputs": [
    {
     "name": "stdout",
     "output_type": "stream",
     "text": [
      "<class 'pandas.core.frame.DataFrame'>\n",
      "RangeIndex: 25187 entries, 0 to 25186\n",
      "Data columns (total 12 columns):\n",
      " #   Column                      Non-Null Count  Dtype  \n",
      "---  ------                      --------------  -----  \n",
      " 0   no_of_adults                25187 non-null  int64  \n",
      " 1   no_of_children              25187 non-null  int64  \n",
      " 2   type_of_meal_plan           25187 non-null  object \n",
      " 3   required_car_parking_space  25187 non-null  int64  \n",
      " 4   room_type_reserved          25187 non-null  object \n",
      " 5   lead_time                   25187 non-null  int64  \n",
      " 6   arrival_year                25187 non-null  int64  \n",
      " 7   arrival_month               25187 non-null  int64  \n",
      " 8   arrival_date                25187 non-null  int64  \n",
      " 9   market_segment_type         25187 non-null  object \n",
      " 10  avg_price_per_room          25187 non-null  float64\n",
      " 11  booking_status              25187 non-null  int64  \n",
      "dtypes: float64(1), int64(8), object(3)\n",
      "memory usage: 2.3+ MB\n"
     ]
    }
   ],
   "source": [
    "df.info()"
   ]
  },
  {
   "cell_type": "code",
   "execution_count": 65,
   "id": "c7aafa7b",
   "metadata": {},
   "outputs": [
    {
     "data": {
      "text/html": [
       "<div>\n",
       "<style scoped>\n",
       "    .dataframe tbody tr th:only-of-type {\n",
       "        vertical-align: middle;\n",
       "    }\n",
       "\n",
       "    .dataframe tbody tr th {\n",
       "        vertical-align: top;\n",
       "    }\n",
       "\n",
       "    .dataframe thead th {\n",
       "        text-align: right;\n",
       "    }\n",
       "</style>\n",
       "<table border=\"1\" class=\"dataframe\">\n",
       "  <thead>\n",
       "    <tr style=\"text-align: right;\">\n",
       "      <th></th>\n",
       "      <th>type_of_meal_plan</th>\n",
       "      <th>room_type_reserved</th>\n",
       "      <th>market_segment_type</th>\n",
       "    </tr>\n",
       "  </thead>\n",
       "  <tbody>\n",
       "    <tr>\n",
       "      <th>0</th>\n",
       "      <td>Meal Plan 1</td>\n",
       "      <td>Room_Type 1</td>\n",
       "      <td>Offline</td>\n",
       "    </tr>\n",
       "    <tr>\n",
       "      <th>1</th>\n",
       "      <td>Not Selected</td>\n",
       "      <td>Room_Type 1</td>\n",
       "      <td>Online</td>\n",
       "    </tr>\n",
       "    <tr>\n",
       "      <th>2</th>\n",
       "      <td>Meal Plan 1</td>\n",
       "      <td>Room_Type 1</td>\n",
       "      <td>Online</td>\n",
       "    </tr>\n",
       "    <tr>\n",
       "      <th>3</th>\n",
       "      <td>Meal Plan 1</td>\n",
       "      <td>Room_Type 1</td>\n",
       "      <td>Online</td>\n",
       "    </tr>\n",
       "    <tr>\n",
       "      <th>4</th>\n",
       "      <td>Not Selected</td>\n",
       "      <td>Room_Type 1</td>\n",
       "      <td>Online</td>\n",
       "    </tr>\n",
       "    <tr>\n",
       "      <th>...</th>\n",
       "      <td>...</td>\n",
       "      <td>...</td>\n",
       "      <td>...</td>\n",
       "    </tr>\n",
       "    <tr>\n",
       "      <th>25182</th>\n",
       "      <td>Meal Plan 1</td>\n",
       "      <td>Room_Type 6</td>\n",
       "      <td>Online</td>\n",
       "    </tr>\n",
       "    <tr>\n",
       "      <th>25183</th>\n",
       "      <td>Meal Plan 1</td>\n",
       "      <td>Room_Type 4</td>\n",
       "      <td>Online</td>\n",
       "    </tr>\n",
       "    <tr>\n",
       "      <th>25184</th>\n",
       "      <td>Meal Plan 1</td>\n",
       "      <td>Room_Type 1</td>\n",
       "      <td>Online</td>\n",
       "    </tr>\n",
       "    <tr>\n",
       "      <th>25185</th>\n",
       "      <td>Meal Plan 1</td>\n",
       "      <td>Room_Type 1</td>\n",
       "      <td>Online</td>\n",
       "    </tr>\n",
       "    <tr>\n",
       "      <th>25186</th>\n",
       "      <td>Not Selected</td>\n",
       "      <td>Room_Type 1</td>\n",
       "      <td>Online</td>\n",
       "    </tr>\n",
       "  </tbody>\n",
       "</table>\n",
       "<p>25187 rows × 3 columns</p>\n",
       "</div>"
      ],
      "text/plain": [
       "      type_of_meal_plan room_type_reserved market_segment_type\n",
       "0           Meal Plan 1        Room_Type 1             Offline\n",
       "1          Not Selected        Room_Type 1              Online\n",
       "2           Meal Plan 1        Room_Type 1              Online\n",
       "3           Meal Plan 1        Room_Type 1              Online\n",
       "4          Not Selected        Room_Type 1              Online\n",
       "...                 ...                ...                 ...\n",
       "25182       Meal Plan 1        Room_Type 6              Online\n",
       "25183       Meal Plan 1        Room_Type 4              Online\n",
       "25184       Meal Plan 1        Room_Type 1              Online\n",
       "25185       Meal Plan 1        Room_Type 1              Online\n",
       "25186      Not Selected        Room_Type 1              Online\n",
       "\n",
       "[25187 rows x 3 columns]"
      ]
     },
     "execution_count": 65,
     "metadata": {},
     "output_type": "execute_result"
    }
   ],
   "source": [
    "df.select_dtypes(include='object')"
   ]
  },
  {
   "cell_type": "markdown",
   "id": "f3275178-c2b5-4a0e-a634-278e079d9ac0",
   "metadata": {},
   "source": [
    "### **Encoding on Type_of_Meal_Plan Ordinal Encoding**"
   ]
  },
  {
   "cell_type": "code",
   "execution_count": 91,
   "id": "a4f6a9f6-ea2b-4e35-98b9-374884b0f630",
   "metadata": {},
   "outputs": [
    {
     "data": {
      "text/plain": [
       "type_of_meal_plan\n",
       "Meal Plan 1     19710\n",
       "Not Selected     4359\n",
       "Meal Plan 2      1112\n",
       "Meal Plan 3         6\n",
       "Name: count, dtype: int64"
      ]
     },
     "execution_count": 91,
     "metadata": {},
     "output_type": "execute_result"
    }
   ],
   "source": [
    "df['type_of_meal_plan'].value_counts()"
   ]
  },
  {
   "cell_type": "code",
   "execution_count": 84,
   "id": "a5f6e727",
   "metadata": {},
   "outputs": [],
   "source": [
    "# ordinal on type of meal plan Column\n",
    "# importing Library\n",
    "from sklearn.preprocessing import OrdinalEncoder\n",
    "\n",
    "order=['Meal Plan 1','Meal Plan 2','Meal Plan 3','Not Selected']\n",
    "\n",
    "Ordinal_E=OrdinalEncoder(categories=[order])"
   ]
  },
  {
   "cell_type": "code",
   "execution_count": 85,
   "id": "d6775c93-84c1-4e99-b713-5c118ed372a4",
   "metadata": {},
   "outputs": [],
   "source": [
    "df['Encoded_Meal_plan']=Ordinal_E.fit_transform(df[['type_of_meal_plan']])"
   ]
  },
  {
   "cell_type": "code",
   "execution_count": 86,
   "id": "5c629405",
   "metadata": {},
   "outputs": [
    {
     "data": {
      "text/plain": [
       "type_of_meal_plan  Encoded_Meal_plan\n",
       "Meal Plan 1        0.0                  19710\n",
       "Not Selected       3.0                   4359\n",
       "Meal Plan 2        1.0                   1112\n",
       "Meal Plan 3        2.0                      6\n",
       "Name: count, dtype: int64"
      ]
     },
     "execution_count": 86,
     "metadata": {},
     "output_type": "execute_result"
    }
   ],
   "source": [
    "df[['type_of_meal_plan','Encoded_Meal_plan']].value_counts()"
   ]
  },
  {
   "cell_type": "markdown",
   "id": "76c3c1bb-ee20-47a2-8655-ccf831da9148",
   "metadata": {},
   "source": [
    "### **Encoding on room_type_reserved Using Feature Count Encoding**"
   ]
  },
  {
   "cell_type": "code",
   "execution_count": 93,
   "id": "ae81d838-0a94-4b12-90fa-0870ec3b7140",
   "metadata": {},
   "outputs": [
    {
     "data": {
      "text/plain": [
       "room_type_reserved\n",
       "Room_Type 1    17943\n",
       "Room_Type 4     5324\n",
       "Room_Type 6      932\n",
       "Room_Type 2      591\n",
       "Room_Type 5      233\n",
       "Room_Type 7      156\n",
       "Room_Type 3        8\n",
       "Name: count, dtype: int64"
      ]
     },
     "execution_count": 93,
     "metadata": {},
     "output_type": "execute_result"
    }
   ],
   "source": [
    "df['room_type_reserved'].value_counts()"
   ]
  },
  {
   "cell_type": "code",
   "execution_count": 94,
   "id": "f7438290-aa43-4f89-8b72-28b74630b0c0",
   "metadata": {},
   "outputs": [],
   "source": [
    "# Feature Encoding\n",
    "freq=df['room_type_reserved'].value_counts()"
   ]
  },
  {
   "cell_type": "code",
   "execution_count": 95,
   "id": "a83a386a-d013-4cee-a1bc-0e22e0055d78",
   "metadata": {},
   "outputs": [],
   "source": [
    "df['room_type_reserved_Encoded']=df['room_type_reserved'].map(freq)"
   ]
  },
  {
   "cell_type": "code",
   "execution_count": 100,
   "id": "db591f23-d2ae-44cb-804a-fd5861e49229",
   "metadata": {},
   "outputs": [
    {
     "data": {
      "text/html": [
       "<div>\n",
       "<style scoped>\n",
       "    .dataframe tbody tr th:only-of-type {\n",
       "        vertical-align: middle;\n",
       "    }\n",
       "\n",
       "    .dataframe tbody tr th {\n",
       "        vertical-align: top;\n",
       "    }\n",
       "\n",
       "    .dataframe thead th {\n",
       "        text-align: right;\n",
       "    }\n",
       "</style>\n",
       "<table border=\"1\" class=\"dataframe\">\n",
       "  <thead>\n",
       "    <tr style=\"text-align: right;\">\n",
       "      <th></th>\n",
       "      <th>room_type_reserved</th>\n",
       "      <th>room_type_reserved_Encoded</th>\n",
       "    </tr>\n",
       "  </thead>\n",
       "  <tbody>\n",
       "    <tr>\n",
       "      <th>0</th>\n",
       "      <td>Room_Type 1</td>\n",
       "      <td>17943</td>\n",
       "    </tr>\n",
       "    <tr>\n",
       "      <th>1</th>\n",
       "      <td>Room_Type 1</td>\n",
       "      <td>17943</td>\n",
       "    </tr>\n",
       "    <tr>\n",
       "      <th>2</th>\n",
       "      <td>Room_Type 1</td>\n",
       "      <td>17943</td>\n",
       "    </tr>\n",
       "    <tr>\n",
       "      <th>3</th>\n",
       "      <td>Room_Type 1</td>\n",
       "      <td>17943</td>\n",
       "    </tr>\n",
       "    <tr>\n",
       "      <th>4</th>\n",
       "      <td>Room_Type 1</td>\n",
       "      <td>17943</td>\n",
       "    </tr>\n",
       "    <tr>\n",
       "      <th>...</th>\n",
       "      <td>...</td>\n",
       "      <td>...</td>\n",
       "    </tr>\n",
       "    <tr>\n",
       "      <th>25182</th>\n",
       "      <td>Room_Type 6</td>\n",
       "      <td>932</td>\n",
       "    </tr>\n",
       "    <tr>\n",
       "      <th>25183</th>\n",
       "      <td>Room_Type 4</td>\n",
       "      <td>5324</td>\n",
       "    </tr>\n",
       "    <tr>\n",
       "      <th>25184</th>\n",
       "      <td>Room_Type 1</td>\n",
       "      <td>17943</td>\n",
       "    </tr>\n",
       "    <tr>\n",
       "      <th>25185</th>\n",
       "      <td>Room_Type 1</td>\n",
       "      <td>17943</td>\n",
       "    </tr>\n",
       "    <tr>\n",
       "      <th>25186</th>\n",
       "      <td>Room_Type 1</td>\n",
       "      <td>17943</td>\n",
       "    </tr>\n",
       "  </tbody>\n",
       "</table>\n",
       "<p>25187 rows × 2 columns</p>\n",
       "</div>"
      ],
      "text/plain": [
       "      room_type_reserved  room_type_reserved_Encoded\n",
       "0            Room_Type 1                       17943\n",
       "1            Room_Type 1                       17943\n",
       "2            Room_Type 1                       17943\n",
       "3            Room_Type 1                       17943\n",
       "4            Room_Type 1                       17943\n",
       "...                  ...                         ...\n",
       "25182        Room_Type 6                         932\n",
       "25183        Room_Type 4                        5324\n",
       "25184        Room_Type 1                       17943\n",
       "25185        Room_Type 1                       17943\n",
       "25186        Room_Type 1                       17943\n",
       "\n",
       "[25187 rows x 2 columns]"
      ]
     },
     "execution_count": 100,
     "metadata": {},
     "output_type": "execute_result"
    }
   ],
   "source": [
    "df[['room_type_reserved','room_type_reserved_Encoded']]"
   ]
  },
  {
   "cell_type": "code",
   "execution_count": 101,
   "id": "a13a1fb0-06d9-482a-82d1-408b4c7b8b77",
   "metadata": {},
   "outputs": [
    {
     "data": {
      "text/html": [
       "<div>\n",
       "<style scoped>\n",
       "    .dataframe tbody tr th:only-of-type {\n",
       "        vertical-align: middle;\n",
       "    }\n",
       "\n",
       "    .dataframe tbody tr th {\n",
       "        vertical-align: top;\n",
       "    }\n",
       "\n",
       "    .dataframe thead th {\n",
       "        text-align: right;\n",
       "    }\n",
       "</style>\n",
       "<table border=\"1\" class=\"dataframe\">\n",
       "  <thead>\n",
       "    <tr style=\"text-align: right;\">\n",
       "      <th></th>\n",
       "      <th>room_type_reserved</th>\n",
       "      <th>room_type_reserved_Encoded</th>\n",
       "    </tr>\n",
       "  </thead>\n",
       "  <tbody>\n",
       "    <tr>\n",
       "      <th>0</th>\n",
       "      <td>Room_Type 1</td>\n",
       "      <td>17943</td>\n",
       "    </tr>\n",
       "    <tr>\n",
       "      <th>7</th>\n",
       "      <td>Room_Type 4</td>\n",
       "      <td>5324</td>\n",
       "    </tr>\n",
       "    <tr>\n",
       "      <th>13</th>\n",
       "      <td>Room_Type 2</td>\n",
       "      <td>591</td>\n",
       "    </tr>\n",
       "    <tr>\n",
       "      <th>14</th>\n",
       "      <td>Room_Type 3</td>\n",
       "      <td>8</td>\n",
       "    </tr>\n",
       "    <tr>\n",
       "      <th>63</th>\n",
       "      <td>Room_Type 6</td>\n",
       "      <td>932</td>\n",
       "    </tr>\n",
       "    <tr>\n",
       "      <th>92</th>\n",
       "      <td>Room_Type 5</td>\n",
       "      <td>233</td>\n",
       "    </tr>\n",
       "    <tr>\n",
       "      <th>165</th>\n",
       "      <td>Room_Type 7</td>\n",
       "      <td>156</td>\n",
       "    </tr>\n",
       "  </tbody>\n",
       "</table>\n",
       "</div>"
      ],
      "text/plain": [
       "    room_type_reserved  room_type_reserved_Encoded\n",
       "0          Room_Type 1                       17943\n",
       "7          Room_Type 4                        5324\n",
       "13         Room_Type 2                         591\n",
       "14         Room_Type 3                           8\n",
       "63         Room_Type 6                         932\n",
       "92         Room_Type 5                         233\n",
       "165        Room_Type 7                         156"
      ]
     },
     "execution_count": 101,
     "metadata": {},
     "output_type": "execute_result"
    }
   ],
   "source": [
    "df[['room_type_reserved','room_type_reserved_Encoded']].drop_duplicates()"
   ]
  },
  {
   "cell_type": "markdown",
   "id": "d38a2af4-18a5-4957-b9e5-22e2cd299ab3",
   "metadata": {},
   "source": [
    "### **Market Segment Type Using Binary Encoder**"
   ]
  },
  {
   "cell_type": "code",
   "execution_count": 120,
   "id": "47e800fb-23be-49b0-af03-59191addf213",
   "metadata": {},
   "outputs": [
    {
     "data": {
      "text/plain": [
       "market_segment_type\n",
       "Online           19609\n",
       "Offline           3919\n",
       "Corporate         1244\n",
       "Complementary      326\n",
       "Aviation            89\n",
       "Name: count, dtype: int64"
      ]
     },
     "execution_count": 120,
     "metadata": {},
     "output_type": "execute_result"
    }
   ],
   "source": [
    "df['market_segment_type'].value_counts()"
   ]
  },
  {
   "cell_type": "code",
   "execution_count": 121,
   "id": "675ec6d6-5c0f-456b-af8b-f90a10b45839",
   "metadata": {},
   "outputs": [],
   "source": [
    "import category_encoders as ce"
   ]
  },
  {
   "cell_type": "code",
   "execution_count": 122,
   "id": "070f334f-023d-49a0-8892-57817bd5506f",
   "metadata": {},
   "outputs": [],
   "source": [
    "#binary object\n",
    "binary_e=ce.BinaryEncoder(cols=['market_segment_type'])\n",
    "# Applying Binary Encoder\n",
    "df=binary_e.fit_transform(df)"
   ]
  },
  {
   "cell_type": "code",
   "execution_count": 123,
   "id": "7c330e76-6e55-4236-a5f4-d9ae9bd7a0ed",
   "metadata": {},
   "outputs": [
    {
     "data": {
      "text/html": [
       "<div>\n",
       "<style scoped>\n",
       "    .dataframe tbody tr th:only-of-type {\n",
       "        vertical-align: middle;\n",
       "    }\n",
       "\n",
       "    .dataframe tbody tr th {\n",
       "        vertical-align: top;\n",
       "    }\n",
       "\n",
       "    .dataframe thead th {\n",
       "        text-align: right;\n",
       "    }\n",
       "</style>\n",
       "<table border=\"1\" class=\"dataframe\">\n",
       "  <thead>\n",
       "    <tr style=\"text-align: right;\">\n",
       "      <th></th>\n",
       "      <th>no_of_adults</th>\n",
       "      <th>no_of_children</th>\n",
       "      <th>type_of_meal_plan</th>\n",
       "      <th>required_car_parking_space</th>\n",
       "      <th>room_type_reserved</th>\n",
       "      <th>lead_time</th>\n",
       "      <th>arrival_year</th>\n",
       "      <th>arrival_month</th>\n",
       "      <th>arrival_date</th>\n",
       "      <th>market_segment_type_0</th>\n",
       "      <th>market_segment_type_1</th>\n",
       "      <th>market_segment_type_2</th>\n",
       "      <th>avg_price_per_room</th>\n",
       "      <th>booking_status</th>\n",
       "      <th>Encoded_Meal_plan</th>\n",
       "      <th>room_type_reserved_Encoded</th>\n",
       "    </tr>\n",
       "  </thead>\n",
       "  <tbody>\n",
       "    <tr>\n",
       "      <th>0</th>\n",
       "      <td>2</td>\n",
       "      <td>0</td>\n",
       "      <td>Meal Plan 1</td>\n",
       "      <td>0</td>\n",
       "      <td>Room_Type 1</td>\n",
       "      <td>224</td>\n",
       "      <td>2017</td>\n",
       "      <td>10</td>\n",
       "      <td>2</td>\n",
       "      <td>0</td>\n",
       "      <td>0</td>\n",
       "      <td>1</td>\n",
       "      <td>65.00</td>\n",
       "      <td>0</td>\n",
       "      <td>0.0</td>\n",
       "      <td>17943</td>\n",
       "    </tr>\n",
       "    <tr>\n",
       "      <th>1</th>\n",
       "      <td>2</td>\n",
       "      <td>0</td>\n",
       "      <td>Not Selected</td>\n",
       "      <td>0</td>\n",
       "      <td>Room_Type 1</td>\n",
       "      <td>5</td>\n",
       "      <td>2018</td>\n",
       "      <td>11</td>\n",
       "      <td>6</td>\n",
       "      <td>0</td>\n",
       "      <td>1</td>\n",
       "      <td>0</td>\n",
       "      <td>106.68</td>\n",
       "      <td>0</td>\n",
       "      <td>3.0</td>\n",
       "      <td>17943</td>\n",
       "    </tr>\n",
       "    <tr>\n",
       "      <th>2</th>\n",
       "      <td>1</td>\n",
       "      <td>0</td>\n",
       "      <td>Meal Plan 1</td>\n",
       "      <td>0</td>\n",
       "      <td>Room_Type 1</td>\n",
       "      <td>1</td>\n",
       "      <td>2018</td>\n",
       "      <td>2</td>\n",
       "      <td>28</td>\n",
       "      <td>0</td>\n",
       "      <td>1</td>\n",
       "      <td>0</td>\n",
       "      <td>60.00</td>\n",
       "      <td>1</td>\n",
       "      <td>0.0</td>\n",
       "      <td>17943</td>\n",
       "    </tr>\n",
       "    <tr>\n",
       "      <th>3</th>\n",
       "      <td>2</td>\n",
       "      <td>0</td>\n",
       "      <td>Meal Plan 1</td>\n",
       "      <td>0</td>\n",
       "      <td>Room_Type 1</td>\n",
       "      <td>211</td>\n",
       "      <td>2018</td>\n",
       "      <td>5</td>\n",
       "      <td>20</td>\n",
       "      <td>0</td>\n",
       "      <td>1</td>\n",
       "      <td>0</td>\n",
       "      <td>100.00</td>\n",
       "      <td>1</td>\n",
       "      <td>0.0</td>\n",
       "      <td>17943</td>\n",
       "    </tr>\n",
       "    <tr>\n",
       "      <th>4</th>\n",
       "      <td>2</td>\n",
       "      <td>0</td>\n",
       "      <td>Not Selected</td>\n",
       "      <td>0</td>\n",
       "      <td>Room_Type 1</td>\n",
       "      <td>48</td>\n",
       "      <td>2018</td>\n",
       "      <td>4</td>\n",
       "      <td>11</td>\n",
       "      <td>0</td>\n",
       "      <td>1</td>\n",
       "      <td>0</td>\n",
       "      <td>94.50</td>\n",
       "      <td>1</td>\n",
       "      <td>3.0</td>\n",
       "      <td>17943</td>\n",
       "    </tr>\n",
       "  </tbody>\n",
       "</table>\n",
       "</div>"
      ],
      "text/plain": [
       "   no_of_adults  no_of_children type_of_meal_plan  required_car_parking_space  \\\n",
       "0             2               0       Meal Plan 1                           0   \n",
       "1             2               0      Not Selected                           0   \n",
       "2             1               0       Meal Plan 1                           0   \n",
       "3             2               0       Meal Plan 1                           0   \n",
       "4             2               0      Not Selected                           0   \n",
       "\n",
       "  room_type_reserved  lead_time  arrival_year  arrival_month  arrival_date  \\\n",
       "0        Room_Type 1        224          2017             10             2   \n",
       "1        Room_Type 1          5          2018             11             6   \n",
       "2        Room_Type 1          1          2018              2            28   \n",
       "3        Room_Type 1        211          2018              5            20   \n",
       "4        Room_Type 1         48          2018              4            11   \n",
       "\n",
       "   market_segment_type_0  market_segment_type_1  market_segment_type_2  \\\n",
       "0                      0                      0                      1   \n",
       "1                      0                      1                      0   \n",
       "2                      0                      1                      0   \n",
       "3                      0                      1                      0   \n",
       "4                      0                      1                      0   \n",
       "\n",
       "   avg_price_per_room  booking_status  Encoded_Meal_plan  \\\n",
       "0               65.00               0                0.0   \n",
       "1              106.68               0                3.0   \n",
       "2               60.00               1                0.0   \n",
       "3              100.00               1                0.0   \n",
       "4               94.50               1                3.0   \n",
       "\n",
       "   room_type_reserved_Encoded  \n",
       "0                       17943  \n",
       "1                       17943  \n",
       "2                       17943  \n",
       "3                       17943  \n",
       "4                       17943  "
      ]
     },
     "execution_count": 123,
     "metadata": {},
     "output_type": "execute_result"
    }
   ],
   "source": [
    "df.head()"
   ]
  },
  {
   "cell_type": "code",
   "execution_count": 118,
   "id": "79c27b65-2d96-4ad9-ba65-ded464d46781",
   "metadata": {},
   "outputs": [
    {
     "name": "stdout",
     "output_type": "stream",
     "text": [
      "<class 'pandas.core.frame.DataFrame'>\n",
      "RangeIndex: 25187 entries, 0 to 25186\n",
      "Data columns (total 14 columns):\n",
      " #   Column                      Non-Null Count  Dtype  \n",
      "---  ------                      --------------  -----  \n",
      " 0   no_of_adults                25187 non-null  int64  \n",
      " 1   no_of_children              25187 non-null  int64  \n",
      " 2   type_of_meal_plan           25187 non-null  object \n",
      " 3   required_car_parking_space  25187 non-null  int64  \n",
      " 4   room_type_reserved          25187 non-null  object \n",
      " 5   lead_time                   25187 non-null  int64  \n",
      " 6   arrival_year                25187 non-null  int64  \n",
      " 7   arrival_month               25187 non-null  int64  \n",
      " 8   arrival_date                25187 non-null  int64  \n",
      " 9   market_segment_type         25187 non-null  object \n",
      " 10  avg_price_per_room          25187 non-null  float64\n",
      " 11  booking_status              25187 non-null  int64  \n",
      " 12  Encoded_Meal_plan           25187 non-null  float64\n",
      " 13  room_type_reserved_Encoded  25187 non-null  int64  \n",
      "dtypes: float64(2), int64(9), object(3)\n",
      "memory usage: 2.7+ MB\n"
     ]
    }
   ],
   "source": [
    "df.info()"
   ]
  },
  {
   "cell_type": "markdown",
   "id": "a828fab1-5376-46fd-9123-63f4aed2c71d",
   "metadata": {},
   "source": [
    "### **Dropping Text Column**"
   ]
  },
  {
   "cell_type": "code",
   "execution_count": 133,
   "id": "14621c2b-4410-4978-989f-f2b4e0451ac1",
   "metadata": {},
   "outputs": [],
   "source": [
    "df = df.drop(columns=['type_of_meal_plan', 'room_type_reserved'])"
   ]
  },
  {
   "cell_type": "markdown",
   "id": "c879264b-aee9-4256-abff-4b87167f3212",
   "metadata": {},
   "source": [
    "### **Changing Datatype to Int from Float**"
   ]
  },
  {
   "cell_type": "code",
   "execution_count": 136,
   "id": "073f3478-7e91-4127-ae2b-faae3a8b14de",
   "metadata": {},
   "outputs": [],
   "source": [
    "df['Encoded_Meal_plan']=df['Encoded_Meal_plan'].astype(int)"
   ]
  },
  {
   "cell_type": "code",
   "execution_count": 135,
   "id": "f5cc3c2e-9dcb-49cb-905b-8ce8fefee55e",
   "metadata": {},
   "outputs": [],
   "source": [
    "df['avg_price_per_room']=df['avg_price_per_room'].astype(int)"
   ]
  },
  {
   "cell_type": "markdown",
   "id": "745d4a71-ed83-4ca4-a2d3-99de9bc91f8d",
   "metadata": {},
   "source": [
    "##### **Dataset Prepared for further processing**"
   ]
  },
  {
   "cell_type": "code",
   "execution_count": 134,
   "id": "46f3def9-3e32-4a7d-ad26-03dce228d5e4",
   "metadata": {},
   "outputs": [
    {
     "data": {
      "text/html": [
       "<div>\n",
       "<style scoped>\n",
       "    .dataframe tbody tr th:only-of-type {\n",
       "        vertical-align: middle;\n",
       "    }\n",
       "\n",
       "    .dataframe tbody tr th {\n",
       "        vertical-align: top;\n",
       "    }\n",
       "\n",
       "    .dataframe thead th {\n",
       "        text-align: right;\n",
       "    }\n",
       "</style>\n",
       "<table border=\"1\" class=\"dataframe\">\n",
       "  <thead>\n",
       "    <tr style=\"text-align: right;\">\n",
       "      <th></th>\n",
       "      <th>no_of_adults</th>\n",
       "      <th>no_of_children</th>\n",
       "      <th>required_car_parking_space</th>\n",
       "      <th>lead_time</th>\n",
       "      <th>arrival_year</th>\n",
       "      <th>arrival_month</th>\n",
       "      <th>arrival_date</th>\n",
       "      <th>market_segment_type_0</th>\n",
       "      <th>market_segment_type_1</th>\n",
       "      <th>market_segment_type_2</th>\n",
       "      <th>avg_price_per_room</th>\n",
       "      <th>booking_status</th>\n",
       "      <th>Encoded_Meal_plan</th>\n",
       "      <th>room_type_reserved_Encoded</th>\n",
       "    </tr>\n",
       "  </thead>\n",
       "  <tbody>\n",
       "    <tr>\n",
       "      <th>0</th>\n",
       "      <td>2</td>\n",
       "      <td>0</td>\n",
       "      <td>0</td>\n",
       "      <td>224</td>\n",
       "      <td>2017</td>\n",
       "      <td>10</td>\n",
       "      <td>2</td>\n",
       "      <td>0</td>\n",
       "      <td>0</td>\n",
       "      <td>1</td>\n",
       "      <td>65.00</td>\n",
       "      <td>0</td>\n",
       "      <td>0.0</td>\n",
       "      <td>17943</td>\n",
       "    </tr>\n",
       "    <tr>\n",
       "      <th>1</th>\n",
       "      <td>2</td>\n",
       "      <td>0</td>\n",
       "      <td>0</td>\n",
       "      <td>5</td>\n",
       "      <td>2018</td>\n",
       "      <td>11</td>\n",
       "      <td>6</td>\n",
       "      <td>0</td>\n",
       "      <td>1</td>\n",
       "      <td>0</td>\n",
       "      <td>106.68</td>\n",
       "      <td>0</td>\n",
       "      <td>3.0</td>\n",
       "      <td>17943</td>\n",
       "    </tr>\n",
       "    <tr>\n",
       "      <th>2</th>\n",
       "      <td>1</td>\n",
       "      <td>0</td>\n",
       "      <td>0</td>\n",
       "      <td>1</td>\n",
       "      <td>2018</td>\n",
       "      <td>2</td>\n",
       "      <td>28</td>\n",
       "      <td>0</td>\n",
       "      <td>1</td>\n",
       "      <td>0</td>\n",
       "      <td>60.00</td>\n",
       "      <td>1</td>\n",
       "      <td>0.0</td>\n",
       "      <td>17943</td>\n",
       "    </tr>\n",
       "    <tr>\n",
       "      <th>3</th>\n",
       "      <td>2</td>\n",
       "      <td>0</td>\n",
       "      <td>0</td>\n",
       "      <td>211</td>\n",
       "      <td>2018</td>\n",
       "      <td>5</td>\n",
       "      <td>20</td>\n",
       "      <td>0</td>\n",
       "      <td>1</td>\n",
       "      <td>0</td>\n",
       "      <td>100.00</td>\n",
       "      <td>1</td>\n",
       "      <td>0.0</td>\n",
       "      <td>17943</td>\n",
       "    </tr>\n",
       "    <tr>\n",
       "      <th>4</th>\n",
       "      <td>2</td>\n",
       "      <td>0</td>\n",
       "      <td>0</td>\n",
       "      <td>48</td>\n",
       "      <td>2018</td>\n",
       "      <td>4</td>\n",
       "      <td>11</td>\n",
       "      <td>0</td>\n",
       "      <td>1</td>\n",
       "      <td>0</td>\n",
       "      <td>94.50</td>\n",
       "      <td>1</td>\n",
       "      <td>3.0</td>\n",
       "      <td>17943</td>\n",
       "    </tr>\n",
       "  </tbody>\n",
       "</table>\n",
       "</div>"
      ],
      "text/plain": [
       "   no_of_adults  no_of_children  required_car_parking_space  lead_time  \\\n",
       "0             2               0                           0        224   \n",
       "1             2               0                           0          5   \n",
       "2             1               0                           0          1   \n",
       "3             2               0                           0        211   \n",
       "4             2               0                           0         48   \n",
       "\n",
       "   arrival_year  arrival_month  arrival_date  market_segment_type_0  \\\n",
       "0          2017             10             2                      0   \n",
       "1          2018             11             6                      0   \n",
       "2          2018              2            28                      0   \n",
       "3          2018              5            20                      0   \n",
       "4          2018              4            11                      0   \n",
       "\n",
       "   market_segment_type_1  market_segment_type_2  avg_price_per_room  \\\n",
       "0                      0                      1               65.00   \n",
       "1                      1                      0              106.68   \n",
       "2                      1                      0               60.00   \n",
       "3                      1                      0              100.00   \n",
       "4                      1                      0               94.50   \n",
       "\n",
       "   booking_status  Encoded_Meal_plan  room_type_reserved_Encoded  \n",
       "0               0                0.0                       17943  \n",
       "1               0                3.0                       17943  \n",
       "2               1                0.0                       17943  \n",
       "3               1                0.0                       17943  \n",
       "4               1                3.0                       17943  "
      ]
     },
     "execution_count": 134,
     "metadata": {},
     "output_type": "execute_result"
    }
   ],
   "source": [
    "df.head()"
   ]
  },
  {
   "cell_type": "markdown",
   "id": "2dde4ac8-bfe1-40fe-b2ba-072a6df6c47c",
   "metadata": {},
   "source": [
    "# **The END!**"
   ]
  }
 ],
 "metadata": {
  "kernelspec": {
   "display_name": "Python 3 (ipykernel)",
   "language": "python",
   "name": "python3"
  },
  "language_info": {
   "codemirror_mode": {
    "name": "ipython",
    "version": 3
   },
   "file_extension": ".py",
   "mimetype": "text/x-python",
   "name": "python",
   "nbconvert_exporter": "python",
   "pygments_lexer": "ipython3",
   "version": "3.11.7"
  }
 },
 "nbformat": 4,
 "nbformat_minor": 5
}
